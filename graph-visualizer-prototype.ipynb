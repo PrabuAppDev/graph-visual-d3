{
 "cells": [
  {
   "cell_type": "code",
   "execution_count": 3,
   "id": "96847e23-bc54-4f21-a942-517609e9953b",
   "metadata": {},
   "outputs": [
    {
     "name": "stdout",
     "output_type": "stream",
     "text": [
      "Libraries imported successfully.\n"
     ]
    }
   ],
   "source": [
    "# Essential imports\n",
    "import requests\n",
    "import json\n",
    "import pandas as pd\n",
    "import matplotlib.pyplot as plt\n",
    "from IPython.display import display, Markdown\n",
    "\n",
    "# Visualization with D3.js integration (ensure D3 is working in your HTML)\n",
    "from IPython.core.display import HTML\n",
    "\n",
    "print(\"Libraries imported successfully.\")"
   ]
  },
  {
   "cell_type": "code",
   "execution_count": 6,
   "id": "ec757d13-c070-473e-bb01-771b056120a6",
   "metadata": {},
   "outputs": [
    {
     "name": "stdout",
     "output_type": "stream",
     "text": [
      "GraphQL query function defined successfully.\n"
     ]
    }
   ],
   "source": [
    "# GraphQL API Endpoint\n",
    "GRAPHQL_URL = \"http://localhost:5000/graphql\"\n",
    "\n",
    "def execute_graphql_query(query):\n",
    "    \"\"\"\n",
    "    Executes a GraphQL query against the configured endpoint.\n",
    "    \"\"\"\n",
    "    try:\n",
    "        response = requests.post(\n",
    "            GRAPHQL_URL,\n",
    "            headers={\"Content-Type\": \"application/json\"},\n",
    "            json={\"query\": query}\n",
    "        )\n",
    "        response.raise_for_status()  # Raise HTTP errors if they occur\n",
    "        data = response.json()\n",
    "\n",
    "        # Debugging the response structure\n",
    "        print(\"Full GraphQL Response:\")\n",
    "        print(json.dumps(data, indent=2))\n",
    "\n",
    "        # Extract data and errors\n",
    "        gql_data = data.get('data', {})\n",
    "        gql_errors = data.get('errors', [])\n",
    "\n",
    "        # Log errors if any\n",
    "        if gql_errors:\n",
    "            print(\"GraphQL Errors:\", gql_errors)\n",
    "        \n",
    "        return gql_data, gql_errors\n",
    "    except requests.exceptions.RequestException as e:\n",
    "        print(\"Request failed:\", e)\n",
    "        return {}, [f\"Request error: {e}\"]\n",
    "    except ValueError as e:\n",
    "        print(\"JSON parsing error:\", e)\n",
    "        return {}, [f\"JSON error: {e}\"]\n",
    "    except Exception as e:\n",
    "        print(\"Unexpected error:\", e)\n",
    "        return {}, [f\"Unexpected error: {e}\"]\n",
    "\n",
    "print(\"GraphQL query function defined and debug logging added successfully.\")\n"
   ]
  },
  {
   "cell_type": "code",
   "execution_count": 10,
   "id": "3bb0bdf2-5b66-4c0b-9516-bc5b0c7800d7",
   "metadata": {},
   "outputs": [
    {
     "name": "stdout",
     "output_type": "stream",
     "text": [
      "GraphQL Response: {\n",
      "  \"nodes\": [\n",
      "    {\n",
      "      \"name\": \"Research Database\"\n",
      "    },\n",
      "    {\n",
      "      \"name\": \"Analytics Dashboard\"\n",
      "    },\n",
      "    {\n",
      "      \"name\": \"Payroll System\"\n",
      "    },\n",
      "    {\n",
      "      \"name\": \"Student Portal\"\n",
      "    },\n",
      "    {\n",
      "      \"name\": \"Admissions Portal\"\n",
      "    },\n",
      "    {\n",
      "      \"name\": \"Catalog System\"\n",
      "    },\n",
      "    {\n",
      "      \"name\": \"Library System\"\n",
      "    },\n",
      "    {\n",
      "      \"name\": \"Course Registration System\"\n",
      "    },\n",
      "    {\n",
      "      \"name\": \"Finance System\"\n",
      "    },\n",
      "    {\n",
      "      \"name\": \"IT Support System\"\n",
      "    },\n",
      "    {\n",
      "      \"name\": \"Inventory System\"\n",
      "    },\n",
      "    {\n",
      "      \"name\": \"HR System\"\n",
      "    },\n",
      "    {\n",
      "      \"name\": \"CRM System\"\n",
      "    },\n",
      "    {\n",
      "      \"name\": \"Alumni Portal\"\n",
      "    }\n",
      "  ]\n",
      "}\n"
     ]
    },
    {
     "data": {
      "text/markdown": [
       "**Error:** 'nodes' not found in the response data"
      ],
      "text/plain": [
       "<IPython.core.display.Markdown object>"
      ]
     },
     "metadata": {},
     "output_type": "display_data"
    },
    {
     "name": "stdout",
     "output_type": "stream",
     "text": [
      "GraphQL Response: {}\n"
     ]
    }
   ],
   "source": [
    "# Test GraphQL connection with a simple query\n",
    "test_query = \"\"\"\n",
    "query {\n",
    "  nodes {\n",
    "    name\n",
    "  }\n",
    "}\n",
    "\"\"\"\n",
    "\n",
    "response_data, errors = execute_graphql_query(test_query)\n",
    "\n",
    "if errors:\n",
    "    display(Markdown(\"**Error:** Unable to connect to GraphQL API\"))\n",
    "    print(\"Errors:\", errors)\n",
    "else:\n",
    "    # Ensure response_data contains 'data' key\n",
    "    if 'data' in response_data and 'nodes' in response_data['data']:\n",
    "        nodes = response_data['data']['nodes']\n",
    "        display(Markdown(f\"**Success:** Retrieved {len(nodes)} nodes\"))\n",
    "        print(\"Nodes:\", nodes)\n",
    "    else:\n",
    "        display(Markdown(\"**Error:** 'nodes' not found in the response data\"))\n",
    "        print(\"GraphQL Response:\", response_data)"
   ]
  }
 ],
 "metadata": {
  "kernelspec": {
   "display_name": "Python 3 (ipykernel)",
   "language": "python",
   "name": "python3"
  },
  "language_info": {
   "codemirror_mode": {
    "name": "ipython",
    "version": 3
   },
   "file_extension": ".py",
   "mimetype": "text/x-python",
   "name": "python",
   "nbconvert_exporter": "python",
   "pygments_lexer": "ipython3",
   "version": "3.12.7"
  }
 },
 "nbformat": 4,
 "nbformat_minor": 5
}
