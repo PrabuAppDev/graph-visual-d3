{
 "cells": [
  {
   "cell_type": "code",
   "execution_count": 1,
   "id": "8e180981-e2f3-4ea9-bb23-62dc408969f5",
   "metadata": {},
   "outputs": [
    {
     "data": {
      "text/html": [
       "<div>\n",
       "<style scoped>\n",
       "    .dataframe tbody tr th:only-of-type {\n",
       "        vertical-align: middle;\n",
       "    }\n",
       "\n",
       "    .dataframe tbody tr th {\n",
       "        vertical-align: top;\n",
       "    }\n",
       "\n",
       "    .dataframe thead th {\n",
       "        text-align: right;\n",
       "    }\n",
       "</style>\n",
       "<table border=\"1\" class=\"dataframe\">\n",
       "  <thead>\n",
       "    <tr style=\"text-align: right;\">\n",
       "      <th></th>\n",
       "      <th>Consumer</th>\n",
       "      <th>Producer</th>\n",
       "      <th>Integration Type</th>\n",
       "      <th>Context-Domain</th>\n",
       "    </tr>\n",
       "  </thead>\n",
       "  <tbody>\n",
       "    <tr>\n",
       "      <th>0</th>\n",
       "      <td>Payroll System</td>\n",
       "      <td>Research Database</td>\n",
       "      <td>REST-JSON-RPC</td>\n",
       "      <td>Research</td>\n",
       "    </tr>\n",
       "    <tr>\n",
       "      <th>1</th>\n",
       "      <td>Finance System</td>\n",
       "      <td>Analytics Dashboard</td>\n",
       "      <td>SFTP</td>\n",
       "      <td>Alumni Relations</td>\n",
       "    </tr>\n",
       "    <tr>\n",
       "      <th>2</th>\n",
       "      <td>Finance System</td>\n",
       "      <td>HR System</td>\n",
       "      <td>ETL</td>\n",
       "      <td>Admissions</td>\n",
       "    </tr>\n",
       "    <tr>\n",
       "      <th>3</th>\n",
       "      <td>IT Support System</td>\n",
       "      <td>Analytics Dashboard</td>\n",
       "      <td>SFTP</td>\n",
       "      <td>Student Services</td>\n",
       "    </tr>\n",
       "    <tr>\n",
       "      <th>4</th>\n",
       "      <td>Finance System</td>\n",
       "      <td>Inventory System</td>\n",
       "      <td>ETL</td>\n",
       "      <td>Finance</td>\n",
       "    </tr>\n",
       "  </tbody>\n",
       "</table>\n",
       "</div>"
      ],
      "text/plain": [
       "            Consumer             Producer Integration Type    Context-Domain\n",
       "0     Payroll System    Research Database    REST-JSON-RPC          Research\n",
       "1     Finance System  Analytics Dashboard             SFTP  Alumni Relations\n",
       "2     Finance System            HR System              ETL        Admissions\n",
       "3  IT Support System  Analytics Dashboard             SFTP  Student Services\n",
       "4     Finance System     Inventory System              ETL           Finance"
      ]
     },
     "execution_count": 1,
     "metadata": {},
     "output_type": "execute_result"
    }
   ],
   "source": [
    "import pandas as pd\n",
    "\n",
    "# Path to the CSV file\n",
    "csv_path = \"sample_integration_data.csv\"\n",
    "\n",
    "# Read the dataset\n",
    "df = pd.read_csv(csv_path)\n",
    "\n",
    "# Display the first few rows\n",
    "df.head()"
   ]
  },
  {
   "cell_type": "code",
   "execution_count": 2,
   "id": "e12392fb-261c-40f6-8f19-6bd19ea5fb92",
   "metadata": {},
   "outputs": [
    {
     "name": "stdout",
     "output_type": "stream",
     "text": [
      "Query executed successfully. Response:\n",
      "{'edges': [{'consumer': 'Payroll System', 'context': 'Research', 'integrationType': 'REST-JSON-RPC', 'producer': 'Research Database'}, {'consumer': 'Finance System', 'context': 'Alumni Relations', 'integrationType': 'SFTP', 'producer': 'Analytics Dashboard'}, {'consumer': 'Finance System', 'context': 'Admissions', 'integrationType': 'ETL', 'producer': 'HR System'}, {'consumer': 'IT Support System', 'context': 'Student Services', 'integrationType': 'SFTP', 'producer': 'Analytics Dashboard'}, {'consumer': 'Finance System', 'context': 'Finance', 'integrationType': 'ETL', 'producer': 'Inventory System'}, {'consumer': 'Alumni Portal', 'context': 'Research', 'integrationType': 'CDC-Stream', 'producer': 'Course Registration System'}, {'consumer': 'Admissions Portal', 'context': 'Inventory Management', 'integrationType': 'Kafka-Stream', 'producer': 'Inventory System'}, {'consumer': 'Research Database', 'context': 'Student Services', 'integrationType': 'CDC-Stream', 'producer': 'Finance System'}, {'consumer': 'IT Support System', 'context': 'Alumni Relations', 'integrationType': 'Event-Queue', 'producer': 'Library System'}, {'consumer': 'Student Portal', 'context': 'IT Support', 'integrationType': 'SFTP', 'producer': 'Finance System'}, {'consumer': 'Payroll System', 'context': 'Student Services', 'integrationType': 'SFTP', 'producer': 'Library System'}, {'consumer': 'Library System', 'context': 'Alumni Relations', 'integrationType': 'CDC-Stream', 'producer': 'Inventory System'}, {'consumer': 'Analytics Dashboard', 'context': 'Finance', 'integrationType': 'Event-Queue', 'producer': 'Admissions Portal'}, {'consumer': 'HR System', 'context': 'Inventory Management', 'integrationType': 'REST-API', 'producer': 'Finance System'}, {'consumer': 'Finance System', 'context': 'Reporting', 'integrationType': 'REST-JSON-RPC', 'producer': 'Finance System'}, {'consumer': 'Research Database', 'context': 'Admissions', 'integrationType': 'Web-Service-SOAP-HTTP', 'producer': 'Library System'}, {'consumer': 'HR System', 'context': 'Alumni Relations', 'integrationType': 'REST-API', 'producer': 'Admissions Portal'}, {'consumer': 'Student Portal', 'context': 'Research', 'integrationType': 'Web-Service-SOAP-HTTP', 'producer': 'Finance System'}, {'consumer': 'IT Support System', 'context': 'Alumni Relations', 'integrationType': 'Web-Service-SOAP-HTTP', 'producer': 'Catalog System'}, {'consumer': 'Analytics Dashboard', 'context': 'Reporting', 'integrationType': 'REST-API', 'producer': 'Library System'}, {'consumer': 'Finance System', 'context': 'Finance', 'integrationType': 'ETL', 'producer': 'CRM System'}, {'consumer': 'Alumni Portal', 'context': 'Admissions', 'integrationType': 'ETL', 'producer': 'Inventory System'}, {'consumer': 'Library System', 'context': 'Admissions', 'integrationType': 'REST-API', 'producer': 'Student Portal'}, {'consumer': 'Alumni Portal', 'context': 'Reporting', 'integrationType': 'Web-Service-SOAP-HTTP', 'producer': 'Catalog System'}, {'consumer': 'Inventory System', 'context': 'Inventory Management', 'integrationType': 'Event-Queue', 'producer': 'Alumni Portal'}, {'consumer': 'Analytics Dashboard', 'context': 'Reporting', 'integrationType': 'REST-API', 'producer': 'Alumni Portal'}, {'consumer': 'Analytics Dashboard', 'context': 'Inventory Management', 'integrationType': 'Web-Service-SOAP-HTTP', 'producer': 'Library System'}, {'consumer': 'Catalog System', 'context': 'Inventory Management', 'integrationType': 'CDC-Stream', 'producer': 'HR System'}, {'consumer': 'Admissions Portal', 'context': 'Library', 'integrationType': 'REST-JSON-RPC', 'producer': 'Payroll System'}, {'consumer': 'CRM System', 'context': 'Reporting', 'integrationType': 'Web-Service-SOAP-HTTP', 'producer': 'Inventory System'}, {'consumer': 'Finance System', 'context': 'Library', 'integrationType': 'Event-Queue', 'producer': 'Catalog System'}, {'consumer': 'Library System', 'context': 'IT Support', 'integrationType': 'SFTP', 'producer': 'Payroll System'}, {'consumer': 'HR System', 'context': 'Alumni Relations', 'integrationType': 'SFTP', 'producer': 'Payroll System'}, {'consumer': 'Student Portal', 'context': 'Admissions', 'integrationType': 'Web-Service-SOAP-HTTP', 'producer': 'Research Database'}, {'consumer': 'Admissions Portal', 'context': 'Student Services', 'integrationType': 'REST-API', 'producer': 'CRM System'}, {'consumer': 'HR System', 'context': 'Student Services', 'integrationType': 'REST-API', 'producer': 'Finance System'}, {'consumer': 'HR System', 'context': 'Alumni Relations', 'integrationType': 'CDC-Stream', 'producer': 'Finance System'}, {'consumer': 'Finance System', 'context': 'Inventory Management', 'integrationType': 'REST-JSON-RPC', 'producer': 'Admissions Portal'}, {'consumer': 'Payroll System', 'context': 'Research', 'integrationType': 'Web-Service-SOAP-HTTP', 'producer': 'CRM System'}, {'consumer': 'Research Database', 'context': 'Student Services', 'integrationType': 'REST-JSON-RPC', 'producer': 'Alumni Portal'}, {'consumer': 'Research Database', 'context': 'Reporting', 'integrationType': 'REST-API', 'producer': 'Finance System'}, {'consumer': 'Student Portal', 'context': 'Alumni Relations', 'integrationType': 'CDC-Stream', 'producer': 'Catalog System'}, {'consumer': 'Analytics Dashboard', 'context': 'Finance', 'integrationType': 'Kafka-Stream', 'producer': 'Course Registration System'}, {'consumer': 'Analytics Dashboard', 'context': 'Finance', 'integrationType': 'Event-Queue', 'producer': 'Research Database'}, {'consumer': 'Course Registration System', 'context': 'Admissions', 'integrationType': 'REST-JSON-RPC', 'producer': 'Research Database'}, {'consumer': 'CRM System', 'context': 'Library', 'integrationType': 'Web-Service-SOAP-HTTP', 'producer': 'Alumni Portal'}, {'consumer': 'Analytics Dashboard', 'context': 'Finance', 'integrationType': 'REST-JSON-RPC', 'producer': 'Student Portal'}, {'consumer': 'IT Support System', 'context': 'Alumni Relations', 'integrationType': 'CDC-Stream', 'producer': 'Research Database'}, {'consumer': 'CRM System', 'context': 'IT Support', 'integrationType': 'ETL', 'producer': 'Payroll System'}, {'consumer': 'HR System', 'context': 'Alumni Relations', 'integrationType': 'CDC-Stream', 'producer': 'Inventory System'}, {'consumer': 'Inventory System', 'context': 'Finance', 'integrationType': 'REST-API', 'producer': 'Research Database'}, {'consumer': 'Alumni Portal', 'context': 'Research', 'integrationType': 'REST-JSON-RPC', 'producer': 'IT Support System'}, {'consumer': 'Finance System', 'context': 'Inventory Management', 'integrationType': 'Event-Queue', 'producer': 'Course Registration System'}, {'consumer': 'Student Portal', 'context': 'Research', 'integrationType': 'Web-Service-SOAP-HTTP', 'producer': 'Finance System'}, {'consumer': 'Finance System', 'context': 'Student Services', 'integrationType': 'SFTP', 'producer': 'Inventory System'}, {'consumer': 'Research Database', 'context': 'Admissions', 'integrationType': 'REST-API', 'producer': 'Catalog System'}, {'consumer': 'Student Portal', 'context': 'IT Support', 'integrationType': 'CDC-Stream', 'producer': 'Inventory System'}, {'consumer': 'Catalog System', 'context': 'Finance', 'integrationType': 'SFTP', 'producer': 'Inventory System'}, {'consumer': 'Alumni Portal', 'context': 'Admissions', 'integrationType': 'Kafka-Stream', 'producer': 'Student Portal'}, {'consumer': 'CRM System', 'context': 'Library', 'integrationType': 'CDC-Stream', 'producer': 'Admissions Portal'}, {'consumer': 'Admissions Portal', 'context': 'Alumni Relations', 'integrationType': 'REST-JSON-RPC', 'producer': 'Analytics Dashboard'}, {'consumer': 'Payroll System', 'context': 'Student Services', 'integrationType': 'Web-Service-SOAP-HTTP', 'producer': 'Alumni Portal'}, {'consumer': 'Admissions Portal', 'context': 'Student Services', 'integrationType': 'REST-JSON-RPC', 'producer': 'Research Database'}, {'consumer': 'Student Portal', 'context': 'Inventory Management', 'integrationType': 'REST-API', 'producer': 'Student Portal'}, {'consumer': 'Inventory System', 'context': 'Alumni Relations', 'integrationType': 'Event-Queue', 'producer': 'Research Database'}, {'consumer': 'Payroll System', 'context': 'Admissions', 'integrationType': 'REST-API', 'producer': 'Research Database'}, {'consumer': 'CRM System', 'context': 'Inventory Management', 'integrationType': 'SFTP', 'producer': 'IT Support System'}, {'consumer': 'CRM System', 'context': 'Inventory Management', 'integrationType': 'ETL', 'producer': 'Payroll System'}, {'consumer': 'Catalog System', 'context': 'IT Support', 'integrationType': 'ETL', 'producer': 'Finance System'}, {'consumer': 'Alumni Portal', 'context': 'Reporting', 'integrationType': 'Kafka-Stream', 'producer': 'Alumni Portal'}, {'consumer': 'Analytics Dashboard', 'context': 'Inventory Management', 'integrationType': 'REST-API', 'producer': 'Student Portal'}, {'consumer': 'Library System', 'context': 'Inventory Management', 'integrationType': 'REST-API', 'producer': 'Student Portal'}, {'consumer': 'IT Support System', 'context': 'Inventory Management', 'integrationType': 'SFTP', 'producer': 'Student Portal'}, {'consumer': 'HR System', 'context': 'Library', 'integrationType': 'Kafka-Stream', 'producer': 'IT Support System'}, {'consumer': 'Admissions Portal', 'context': 'Finance', 'integrationType': 'Event-Queue', 'producer': 'HR System'}, {'consumer': 'Catalog System', 'context': 'Alumni Relations', 'integrationType': 'SFTP', 'producer': 'Library System'}, {'consumer': 'Catalog System', 'context': 'Admissions', 'integrationType': 'Event-Queue', 'producer': 'Student Portal'}, {'consumer': 'Student Portal', 'context': 'Admissions', 'integrationType': 'SFTP', 'producer': 'HR System'}, {'consumer': 'Analytics Dashboard', 'context': 'Admissions', 'integrationType': 'CDC-Stream', 'producer': 'Finance System'}, {'consumer': 'Admissions Portal', 'context': 'Research', 'integrationType': 'Event-Queue', 'producer': 'Research Database'}, {'consumer': 'Student Portal', 'context': 'Inventory Management', 'integrationType': 'ETL', 'producer': 'HR System'}, {'consumer': 'Admissions Portal', 'context': 'Student Services', 'integrationType': 'CDC-Stream', 'producer': 'Student Portal'}, {'consumer': 'Alumni Portal', 'context': 'Admissions', 'integrationType': 'Web-Service-SOAP-HTTP', 'producer': 'Research Database'}, {'consumer': 'Admissions Portal', 'context': 'Inventory Management', 'integrationType': 'REST-API', 'producer': 'Alumni Portal'}, {'consumer': 'Research Database', 'context': 'Student Services', 'integrationType': 'CDC-Stream', 'producer': 'Alumni Portal'}, {'consumer': 'Course Registration System', 'context': 'Reporting', 'integrationType': 'REST-JSON-RPC', 'producer': 'Admissions Portal'}, {'consumer': 'Payroll System', 'context': 'Finance', 'integrationType': 'CDC-Stream', 'producer': 'Inventory System'}, {'consumer': 'Student Portal', 'context': 'Admissions', 'integrationType': 'REST-JSON-RPC', 'producer': 'Library System'}, {'consumer': 'Alumni Portal', 'context': 'Finance', 'integrationType': 'REST-JSON-RPC', 'producer': 'HR System'}, {'consumer': 'Course Registration System', 'context': 'Finance', 'integrationType': 'REST-API', 'producer': 'Analytics Dashboard'}, {'consumer': 'Course Registration System', 'context': 'Research', 'integrationType': 'Kafka-Stream', 'producer': 'Course Registration System'}, {'consumer': 'Library System', 'context': 'Inventory Management', 'integrationType': 'REST-JSON-RPC', 'producer': 'Inventory System'}, {'consumer': 'HR System', 'context': 'IT Support', 'integrationType': 'REST-API', 'producer': 'Admissions Portal'}, {'consumer': 'Library System', 'context': 'Admissions', 'integrationType': 'Kafka-Stream', 'producer': 'Research Database'}, {'consumer': 'Catalog System', 'context': 'Inventory Management', 'integrationType': 'SFTP', 'producer': 'IT Support System'}, {'consumer': 'Payroll System', 'context': 'Admissions', 'integrationType': 'Event-Queue', 'producer': 'Payroll System'}, {'consumer': 'Catalog System', 'context': 'Inventory Management', 'integrationType': 'Kafka-Stream', 'producer': 'Admissions Portal'}, {'consumer': 'Admissions Portal', 'context': 'Research', 'integrationType': 'REST-JSON-RPC', 'producer': 'Library System'}, {'consumer': 'Payroll System', 'context': 'Finance', 'integrationType': 'Web-Service-SOAP-HTTP', 'producer': 'IT Support System'}, {'consumer': 'CRM System', 'context': 'Inventory Management', 'integrationType': 'SFTP', 'producer': 'Course Registration System'}]}\n"
     ]
    }
   ],
   "source": [
    "import requests\n",
    "\n",
    "# Define the GraphQL API endpoint\n",
    "GRAPHQL_URL = \"http://localhost:5000/graphql\"\n",
    "\n",
    "# Define a simple query\n",
    "query = \"\"\"\n",
    "query FetchAllEdges {\n",
    "    edges {\n",
    "        consumer\n",
    "        producer\n",
    "        integrationType\n",
    "        context\n",
    "    }\n",
    "}\n",
    "\"\"\"\n",
    "\n",
    "# Send the query to the API\n",
    "response = requests.post(GRAPHQL_URL, json={\"query\": query})\n",
    "\n",
    "# Check and display the response\n",
    "if response.status_code == 200:\n",
    "    data = response.json()\n",
    "    print(\"Query executed successfully. Response:\")\n",
    "    print(data)\n",
    "else:\n",
    "    print(f\"Error: {response.status_code}\")\n",
    "    print(response.text)"
   ]
  }
 ],
 "metadata": {
  "kernelspec": {
   "display_name": "Python 3 (ipykernel)",
   "language": "python",
   "name": "python3"
  },
  "language_info": {
   "codemirror_mode": {
    "name": "ipython",
    "version": 3
   },
   "file_extension": ".py",
   "mimetype": "text/x-python",
   "name": "python",
   "nbconvert_exporter": "python",
   "pygments_lexer": "ipython3",
   "version": "3.12.7"
  }
 },
 "nbformat": 4,
 "nbformat_minor": 5
}
