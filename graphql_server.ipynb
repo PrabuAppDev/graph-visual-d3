{
 "cells": [
  {
   "cell_type": "code",
   "execution_count": 1,
   "id": "29ef881d-ea2b-466c-b28d-60928e5c567c",
   "metadata": {},
   "outputs": [
    {
     "name": "stdout",
     "output_type": "stream",
     "text": [
      "Schema created successfully!\n"
     ]
    }
   ],
   "source": [
    "from flask import Flask, request, jsonify\n",
    "from flask_cors import CORS\n",
    "from schema_definition import schema  # GraphQL schema"
   ]
  },
  {
   "cell_type": "code",
   "execution_count": 7,
   "id": "a1043459-f5df-4fb8-95e2-da0c826e075e",
   "metadata": {},
   "outputs": [
    {
     "name": "stdout",
     "output_type": "stream",
     "text": [
      "Schema object:\n",
      "type Query {\n",
      "  nodes: [Node]\n",
      "  edges(consumer: String, producer: String, integrationType: String, context: String, contextContains: String, integrationTypeIn: [String], first: Int, last: Int): [Edge]\n",
      "}\n",
      "\n",
      "type Node {\n",
      "  name: String\n",
      "}\n",
      "\n",
      "type Edge {\n",
      "  consumer: String\n",
      "  producer: String\n",
      "  integrationType: String\n",
      "  context: String\n",
      "}\n",
      "\n",
      "Query type fields:\n",
      " - nodes\n",
      " - edges\n",
      "\n",
      "Full schema structure:\n",
      "type Query {\n",
      "  nodes: [Node]\n",
      "  edges(consumer: String, producer: String, integrationType: String, context: String, contextContains: String, integrationTypeIn: [String], first: Int, last: Int): [Edge]\n",
      "}\n",
      "\n",
      "type Node {\n",
      "  name: String\n",
      "}\n",
      "\n",
      "type Edge {\n",
      "  consumer: String\n",
      "  producer: String\n",
      "  integrationType: String\n",
      "  context: String\n",
      "}\n"
     ]
    }
   ],
   "source": [
    "# Inspect the schema object\n",
    "print(\"Schema object:\")\n",
    "print(schema)\n",
    "\n",
    "# Access query type fields directly\n",
    "try:\n",
    "    print(\"\\nQuery type fields:\")\n",
    "    query_fields = list(schema.query._meta.fields.keys())\n",
    "    for field in query_fields:\n",
    "        print(f\" - {field}\")\n",
    "except AttributeError as e:\n",
    "    print(\"\\nError accessing query type fields:\", e)\n",
    "\n",
    "# Debug the full schema structure for verification\n",
    "print(\"\\nFull schema structure:\")\n",
    "print(schema)"
   ]
  },
  {
   "cell_type": "code",
   "execution_count": null,
   "id": "ca1d0087-778a-4799-a6b7-f9389d722b93",
   "metadata": {},
   "outputs": [
    {
     "name": "stdout",
     "output_type": "stream",
     "text": [
      "Starting the GraphQL server...\n",
      " * Serving Flask app '__main__'\n",
      " * Debug mode: off\n"
     ]
    },
    {
     "name": "stderr",
     "output_type": "stream",
     "text": [
      "WARNING: This is a development server. Do not use it in a production deployment. Use a production WSGI server instead.\n",
      " * Running on http://127.0.0.1:5000\n",
      "Press CTRL+C to quit\n",
      "127.0.0.1 - - [27/Nov/2024 18:15:42] \"GET /graphql-playground HTTP/1.1\" 200 -\n",
      "127.0.0.1 - - [27/Nov/2024 18:15:43] \"GET /favicon.ico HTTP/1.1\" 404 -\n",
      "127.0.0.1 - - [27/Nov/2024 18:15:44] \"POST /graphql HTTP/1.1\" 200 -\n",
      "127.0.0.1 - - [27/Nov/2024 18:15:50] \"POST /graphql HTTP/1.1\" 200 -\n",
      "127.0.0.1 - - [27/Nov/2024 18:15:51] \"POST /graphql HTTP/1.1\" 200 -\n",
      "127.0.0.1 - - [27/Nov/2024 18:18:26] \"POST /graphql HTTP/1.1\" 200 -\n",
      "127.0.0.1 - - [27/Nov/2024 18:19:04] \"POST /graphql HTTP/1.1\" 200 -\n",
      "127.0.0.1 - - [27/Nov/2024 18:19:41] \"POST /graphql HTTP/1.1\" 200 -\n",
      "127.0.0.1 - - [27/Nov/2024 18:20:14] \"POST /graphql HTTP/1.1\" 200 -\n",
      "127.0.0.1 - - [27/Nov/2024 18:21:52] \"POST /graphql HTTP/1.1\" 200 -\n"
     ]
    }
   ],
   "source": [
    "from flask import Flask, request, jsonify\n",
    "from schema_definition import schema  # Ensure this matches the schema file's location\n",
    "\n",
    "# Create a Flask application\n",
    "app = Flask(__name__)\n",
    "\n",
    "@app.route(\"/\")\n",
    "def home():\n",
    "    return \"\"\"\n",
    "    <h1>Welcome to the GraphQL Server</h1>\n",
    "    <p>Use the <a href=\"/graphql-playground\">GraphQL Playground</a> to explore the API.</p>\n",
    "    <p>Send POST requests to <code>/graphql</code> to interact with the API programmatically.</p>\n",
    "    \"\"\"\n",
    "\n",
    "@app.route(\"/graphql\", methods=[\"POST\"])\n",
    "def graphql_server():\n",
    "    \"\"\"\n",
    "    Endpoint to handle GraphQL queries.\n",
    "    \"\"\"\n",
    "    try:\n",
    "        # Parse the incoming request\n",
    "        data = request.get_json()\n",
    "        query = data.get(\"query\")\n",
    "\n",
    "        if not query:\n",
    "            return jsonify({\"errors\": [\"No query provided\"]}), 400\n",
    "\n",
    "        # Execute the query\n",
    "        result = schema.execute(query)\n",
    "\n",
    "        if result.errors:\n",
    "            return jsonify({\"errors\": [str(error) for error in result.errors]}), 400\n",
    "\n",
    "        return jsonify(result.data)\n",
    "\n",
    "    except Exception as e:\n",
    "        return jsonify({\"errors\": [str(e)]}), 500\n",
    "\n",
    "@app.route(\"/graphql-playground\")\n",
    "def playground():\n",
    "    \"\"\"\n",
    "    Serve GraphQL Playground for manual exploration.\n",
    "    \"\"\"\n",
    "    playground_html = \"\"\"\n",
    "    <!DOCTYPE html>\n",
    "    <html>\n",
    "    <head>\n",
    "      <title>GraphQL Playground</title>\n",
    "      <link rel=\"stylesheet\" href=\"https://cdn.jsdelivr.net/npm/graphql-playground-react/build/static/css/index.css\" />\n",
    "      <script src=\"https://cdn.jsdelivr.net/npm/graphql-playground-react/build/static/js/middleware.js\"></script>\n",
    "    </head>\n",
    "    <body>\n",
    "      <div id=\"root\"></div>\n",
    "      <script>\n",
    "        window.addEventListener('load', function() {\n",
    "          GraphQLPlayground.init(document.getElementById('root'), { endpoint: '/graphql' })\n",
    "        })\n",
    "      </script>\n",
    "    </body>\n",
    "    </html>\n",
    "    \"\"\"\n",
    "    return playground_html\n",
    "\n",
    "if __name__ == \"__main__\":\n",
    "    print(\"Starting the GraphQL server...\")\n",
    "    app.run(port=5000)"
   ]
  }
 ],
 "metadata": {
  "kernelspec": {
   "display_name": "Python 3 (ipykernel)",
   "language": "python",
   "name": "python3"
  },
  "language_info": {
   "codemirror_mode": {
    "name": "ipython",
    "version": 3
   },
   "file_extension": ".py",
   "mimetype": "text/x-python",
   "name": "python",
   "nbconvert_exporter": "python",
   "pygments_lexer": "ipython3",
   "version": "3.12.7"
  }
 },
 "nbformat": 4,
 "nbformat_minor": 5
}
