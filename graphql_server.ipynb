{
 "cells": [
  {
   "cell_type": "code",
   "execution_count": null,
   "id": "29ef881d-ea2b-466c-b28d-60928e5c567c",
   "metadata": {},
   "outputs": [],
   "source": [
    "# !pip install flask-cors"
   ]
  },
  {
   "cell_type": "code",
   "execution_count": null,
   "id": "e869dfb2-27d4-42e5-af78-23aed9414f47",
   "metadata": {},
   "outputs": [],
   "source": [
    "!pip install -v transformers torch"
   ]
  },
  {
   "cell_type": "code",
   "execution_count": null,
   "id": "ca1d0087-778a-4799-a6b7-f9389d722b93",
   "metadata": {},
   "outputs": [
    {
     "name": "stdout",
     "output_type": "stream",
     "text": [
      "Schema created successfully!\n",
      " * Serving Flask app '__main__'\n",
      " * Debug mode: off\n"
     ]
    },
    {
     "name": "stderr",
     "output_type": "stream",
     "text": [
      "WARNING: This is a development server. Do not use it in a production deployment. Use a production WSGI server instead.\n",
      " * Running on http://127.0.0.1:5000\n",
      "Press CTRL+C to quit\n",
      "127.0.0.1 - - [27/Nov/2024 16:50:17] \"OPTIONS /graphql HTTP/1.1\" 200 -\n",
      "127.0.0.1 - - [27/Nov/2024 16:50:17] \"POST /graphql HTTP/1.1\" 200 -\n",
      "127.0.0.1 - - [27/Nov/2024 16:52:23] \"OPTIONS /graphql HTTP/1.1\" 200 -\n",
      "127.0.0.1 - - [27/Nov/2024 16:52:23] \"POST /graphql HTTP/1.1\" 200 -\n",
      "127.0.0.1 - - [27/Nov/2024 16:53:34] \"OPTIONS /graphql HTTP/1.1\" 200 -\n",
      "127.0.0.1 - - [27/Nov/2024 16:53:35] \"POST /graphql HTTP/1.1\" 200 -\n",
      "127.0.0.1 - - [27/Nov/2024 16:56:01] \"OPTIONS /graphql HTTP/1.1\" 200 -\n",
      "127.0.0.1 - - [27/Nov/2024 16:56:01] \"POST /graphql HTTP/1.1\" 200 -\n",
      "127.0.0.1 - - [27/Nov/2024 16:56:19] \"OPTIONS /graphql HTTP/1.1\" 200 -\n",
      "127.0.0.1 - - [27/Nov/2024 16:56:20] \"POST /graphql HTTP/1.1\" 200 -\n",
      "127.0.0.1 - - [27/Nov/2024 16:57:51] \"OPTIONS /graphql HTTP/1.1\" 200 -\n",
      "127.0.0.1 - - [27/Nov/2024 16:57:51] \"POST /graphql HTTP/1.1\" 200 -\n",
      "127.0.0.1 - - [27/Nov/2024 16:59:22] \"OPTIONS /graphql HTTP/1.1\" 200 -\n",
      "127.0.0.1 - - [27/Nov/2024 16:59:23] \"POST /graphql HTTP/1.1\" 200 -\n"
     ]
    }
   ],
   "source": [
    "from flask import Flask, request, jsonify\n",
    "from flask_cors import CORS  # Import Flask-CORS\n",
    "from schema_definition import schema\n",
    "\n",
    "# Flask app\n",
    "app = Flask(__name__)\n",
    "# CORS(app)  # Enable CORS for all routes\n",
    "CORS(app, resources={r\"/graphql\": {\"origins\": \"*\"}})\n",
    "\n",
    "@app.route(\"/\")\n",
    "def home():\n",
    "    return \"\"\"\n",
    "    <h1>Welcome to the GraphQL Server</h1>\n",
    "    <p>Use the <a href=\"/graphql-playground\">GraphQL Playground</a> to explore the API.</p>\n",
    "    <p>Send POST requests to <code>/graphql</code> to interact with the API programmatically.</p>\n",
    "    \"\"\"\n",
    "\n",
    "@app.route(\"/graphql\", methods=[\"GET\", \"POST\"])\n",
    "def graphql_server():\n",
    "    if request.method == \"GET\":\n",
    "        return \"\"\"\n",
    "        <h1>GraphQL Endpoint</h1>\n",
    "        <p>This is the GraphQL endpoint.</p>\n",
    "        <p>Use a GraphQL client, such as <a href=\"/graphql-playground\">GraphQL Playground</a>, or send POST requests to interact with the API.</p>\n",
    "        \"\"\"\n",
    "    data = request.get_json()\n",
    "    result = schema.execute(data.get(\"query\"))\n",
    "    if result.errors:\n",
    "        return jsonify({\"errors\": [str(error) for error in result.errors]})\n",
    "    return jsonify(result.data)\n",
    "\n",
    "@app.route(\"/graphql-playground\")\n",
    "def playground():\n",
    "    playground_html = \"\"\"\n",
    "    <!DOCTYPE html>\n",
    "    <html>\n",
    "    <head>\n",
    "      <title>GraphQL Playground</title>\n",
    "      <link rel=\"stylesheet\" href=\"https://cdn.jsdelivr.net/npm/graphql-playground-react/build/static/css/index.css\" />\n",
    "      <script src=\"https://cdn.jsdelivr.net/npm/graphql-playground-react/build/static/js/middleware.js\"></script>\n",
    "    </head>\n",
    "    <body>\n",
    "      <div id=\"root\"></div>\n",
    "      <script>\n",
    "        window.addEventListener('load', function() {\n",
    "          GraphQLPlayground.init(document.getElementById('root'), { endpoint: '/graphql' })\n",
    "        })\n",
    "      </script>\n",
    "    </body>\n",
    "    </html>\n",
    "    \"\"\"\n",
    "    return playground_html\n",
    "\n",
    "if __name__ == \"__main__\":\n",
    "    app.run(port=5000)"
   ]
  }
 ],
 "metadata": {
  "kernelspec": {
   "display_name": "Python 3 (ipykernel)",
   "language": "python",
   "name": "python3"
  },
  "language_info": {
   "codemirror_mode": {
    "name": "ipython",
    "version": 3
   },
   "file_extension": ".py",
   "mimetype": "text/x-python",
   "name": "python",
   "nbconvert_exporter": "python",
   "pygments_lexer": "ipython3",
   "version": "3.12.7"
  }
 },
 "nbformat": 4,
 "nbformat_minor": 5
}
